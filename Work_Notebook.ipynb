{
 "cells": [
  {
   "cell_type": "code",
   "execution_count": null,
   "metadata": {},
   "outputs": [],
   "source": [
    "\"\"\"\n",
    "\n",
    "Given an array of numbers and an index, return the index of the least number larger than the element at the given index, or -1 \n",
    "if there is no such index ( or, where applicable, Nothing or a similarly empty value ).\n",
    "\n",
    "Notes\n",
    "Multiple correct answers may be possible. In this case, return any one of them.\n",
    "The given index will be inside the given array.\n",
    "The given array will, therefore, never be empty.\n",
    "\n",
    "Example\n",
    "least_larger( [4, 1, 3, 5, 6], 0 )  ->  3\n",
    "least_larger( [4, 1, 3, 5, 6], 4 )  -> -1\n",
    "\n",
    "\n",
    "\"\"\"\n",
    "\n",
    "\n",
    "def least_larger(a, i): \n",
    "    ans=-1\n",
    "    for n in range(len(a)):\n",
    "        if ans==-1:\n",
    "            if a[n]>a[i]:\n",
    "                ans=n\n",
    "        else:\n",
    "            if a[n]> a[i] and a[n]<a[ans]:\n",
    "                ans=n\n",
    "    return ans\n",
    "    \n"
   ]
  }
 ],
 "metadata": {
  "kernelspec": {
   "display_name": "Python 3",
   "language": "python",
   "name": "python3"
  },
  "language_info": {
   "codemirror_mode": {
    "name": "ipython",
    "version": 3
   },
   "file_extension": ".py",
   "mimetype": "text/x-python",
   "name": "python",
   "nbconvert_exporter": "python",
   "pygments_lexer": "ipython3",
   "version": "3.7.7"
  }
 },
 "nbformat": 4,
 "nbformat_minor": 4
}
