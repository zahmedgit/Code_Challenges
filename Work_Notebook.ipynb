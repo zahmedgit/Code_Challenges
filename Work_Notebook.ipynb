{
 "cells": [
  {
   "cell_type": "code",
   "execution_count": null,
   "metadata": {},
   "outputs": [],
   "source": [
    "\"\"\"\n",
    "\n",
    "Given an array of integers, find the one that appears an odd number of times.\n",
    "\n",
    "There will always be only one integer that appears an odd number of times.\n",
    "\n",
    "\"\"\"\n",
    "\n",
    "\n",
    "def find_it(seq):\n",
    "    counts={}\n",
    "    if len(seq)==1:\n",
    "        return seq[0]\n",
    "    for num in seq:\n",
    "        if num in counts:\n",
    "            counts[num]+=1\n",
    "        else:\n",
    "            counts[num]=1\n",
    "    for num,count in counts.items():\n",
    "        if count%2==1:\n",
    "            return num\n"
   ]
  }
 ],
 "metadata": {
  "kernelspec": {
   "display_name": "Python 3",
   "language": "python",
   "name": "python3"
  },
  "language_info": {
   "codemirror_mode": {
    "name": "ipython",
    "version": 3
   },
   "file_extension": ".py",
   "mimetype": "text/x-python",
   "name": "python",
   "nbconvert_exporter": "python",
   "pygments_lexer": "ipython3",
   "version": "3.7.7"
  }
 },
 "nbformat": 4,
 "nbformat_minor": 4
}
