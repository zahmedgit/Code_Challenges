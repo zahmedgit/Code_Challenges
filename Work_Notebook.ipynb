{
 "cells": [
  {
   "cell_type": "code",
   "execution_count": null,
   "metadata": {},
   "outputs": [],
   "source": [
    "\"\"\"\n",
    "\n",
    "Your task, is to create NxN multiplication table, of size provided in parameter.\n",
    "\n",
    "for example, when given size is 3:\n",
    "\n",
    "1 2 3\n",
    "2 4 6\n",
    "3 6 9\n",
    "for given example, the return value should be: [[1,2,3],[2,4,6],[3,6,9]]\n",
    "\n",
    "\"\"\"\n",
    "\n",
    "\n",
    "def multiplication_table(size):\n",
    "    arr=[]\n",
    "    for x in range(1,size+1):\n",
    "        arr.append([y*x for y in range(1,size+1)])  \n",
    "    return arr\n",
    "    \n"
   ]
  }
 ],
 "metadata": {
  "kernelspec": {
   "display_name": "Python 3",
   "language": "python",
   "name": "python3"
  },
  "language_info": {
   "codemirror_mode": {
    "name": "ipython",
    "version": 3
   },
   "file_extension": ".py",
   "mimetype": "text/x-python",
   "name": "python",
   "nbconvert_exporter": "python",
   "pygments_lexer": "ipython3",
   "version": "3.7.7"
  }
 },
 "nbformat": 4,
 "nbformat_minor": 4
}
