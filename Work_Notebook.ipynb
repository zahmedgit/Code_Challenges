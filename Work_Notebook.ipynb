{
 "cells": [
  {
   "cell_type": "code",
   "execution_count": null,
   "metadata": {},
   "outputs": [],
   "source": [
    "\"\"\"\n",
    "\n",
    "We all want to climb the leaderboard. Even given some of the massive scores on there, it's nice to know how close you are...\n",
    "\n",
    "In this kata you will be given a username and their score, your score (not your real score) and you need to calculate how many \n",
    "kata you need to complete to beat their score, by 1 point exactly.\n",
    "\n",
    "As this is the easy version (harder one to folow at some point in the future), let's assume only Beta kata and 8kyu kata are \n",
    "available. Worth 3 and 1 point respectively.\n",
    "\n",
    "Return a string in this format: \"To beat <user>'s score, I must complete <x> Beta kata and <y> 8kyu kata.\"\n",
    "\n",
    "If the total number of kata you need to complete >1000, add \"Dammit!\" to the end of the string, like so: \"To beat <user>'s \n",
    "score, I must complete <x> Beta kata and <y> 8kyu kata. Dammit!\"\n",
    "\n",
    "If your score is higher than the user's already, return \"Winning!\" and if they are equal, return \"Only need one!\"\n",
    "\n",
    "Note: You are looking to complete as few kata as possible to get to your target.\n",
    "\n",
    "\n",
    "\n",
    "\"\"\"\n",
    "\n",
    "\n",
    "def leader_b(user, user_score, your_score):\n",
    "    if your_score>user_score:\n",
    "        return 'Winning!'\n",
    "    if your_score==user_score:\n",
    "        return 'Only need one!'\n",
    "    beta=(user_score-your_score)//3\n",
    "    kyu=(user_score-your_score)%3\n",
    "    output= \"To beat {}'s score, I must complete {} Beta kata and {} 8kyu kata.\".format(user,beta,kyu)\n",
    "    if beta+kyu>1000:\n",
    "        output+=' Dammit!'\n",
    "    return output\n",
    "    \n"
   ]
  }
 ],
 "metadata": {
  "kernelspec": {
   "display_name": "Python 3",
   "language": "python",
   "name": "python3"
  },
  "language_info": {
   "codemirror_mode": {
    "name": "ipython",
    "version": 3
   },
   "file_extension": ".py",
   "mimetype": "text/x-python",
   "name": "python",
   "nbconvert_exporter": "python",
   "pygments_lexer": "ipython3",
   "version": "3.7.7"
  }
 },
 "nbformat": 4,
 "nbformat_minor": 4
}
