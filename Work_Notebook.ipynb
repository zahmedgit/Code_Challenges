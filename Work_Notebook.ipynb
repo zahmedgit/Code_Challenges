{
 "cells": [
  {
   "cell_type": "code",
   "execution_count": null,
   "metadata": {},
   "outputs": [],
   "source": [
    "\"\"\"\n",
    "\n",
    "Complete the function scramble(str1, str2) that returns true if a portion of str1 characters can be rearranged to match str2, \n",
    "otherwise returns false.\n",
    "\n",
    "Notes:\n",
    "\n",
    "Only lower case letters will be used (a-z). No punctuation or digits will be included.\n",
    "Performance needs to be considered\n",
    "Input strings s1 and s2 are null terminated.\n",
    "Examples\n",
    "scramble('rkqodlw', 'world') ==> True\n",
    "scramble('cedewaraaossoqqyt', 'codewars') ==> True\n",
    "scramble('katas', 'steak') ==> False\n",
    "\n",
    "\"\"\"\n",
    "\n",
    "\n",
    "def scramble(s1, s2):\n",
    "    s1_counts={}\n",
    "    s2_counts={}\n",
    "    for letter in s1:\n",
    "        if letter in s1_counts:\n",
    "            s1_counts[letter]+=1\n",
    "        else:\n",
    "            s1_counts[letter]=1\n",
    "            \n",
    "    for letter in s2:\n",
    "        if letter in s2_counts:\n",
    "            s2_counts[letter]+=1\n",
    "        else:\n",
    "            s2_counts[letter]=1\n",
    "    for s in s2_counts:\n",
    "        if s not in s1_counts or s2_counts[s]>s1_counts[s]:\n",
    "            return False\n",
    "    return True\n",
    "    \n"
   ]
  }
 ],
 "metadata": {
  "kernelspec": {
   "display_name": "Python 3",
   "language": "python",
   "name": "python3"
  },
  "language_info": {
   "codemirror_mode": {
    "name": "ipython",
    "version": 3
   },
   "file_extension": ".py",
   "mimetype": "text/x-python",
   "name": "python",
   "nbconvert_exporter": "python",
   "pygments_lexer": "ipython3",
   "version": "3.7.7"
  }
 },
 "nbformat": 4,
 "nbformat_minor": 4
}
