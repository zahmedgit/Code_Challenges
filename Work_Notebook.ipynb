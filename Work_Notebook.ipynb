{
 "cells": [
  {
   "cell_type": "code",
   "execution_count": null,
   "metadata": {},
   "outputs": [],
   "source": [
    "\"\"\"\n",
    "\n",
    "In this kata, you have to make a function named uglify_word (uglifyWord in Java and Javascript). It accepts a string parameter.\n",
    "\n",
    "What does the uglify_word do?\n",
    "It checks the char in the given string from the front with an iteration, in the iteration it does these steps:\n",
    "\n",
    "There is a flag and it will be started from 1.\n",
    "Check the current char in the iteration index.\n",
    "If it is an alphabet character [a-zA-Z] and the flag value is equal to 1, then change this character to upper case.\n",
    "If it is an alphabet character [a-zA-Z] and the flag value is equal to 0, then change this character to lower case.\n",
    "Otherwise, if it is not an alphabet character, then set the flag value to 1.\n",
    "If the current char is an alphabet character, do a boolean not operation to the flag.\n",
    "After the iteration has done, return the fixed string that might have been changed in such iteration.\n",
    "\n",
    "Examples\n",
    "uglify_word(\"aaa\") === \"AaA\"\n",
    "uglify_word(\"AAA\") === \"AaA\"\n",
    "uglify_word(\"BbB\") === \"BbB\"\n",
    "uglify_word(\"aaa-bbb-ccc\") === \"AaA-BbB-CcC\"\n",
    "uglify_word(\"AaA-BbB-CcC\") === \"AaA-BbB-CcC\"\n",
    "uglify_word(\"eeee-ffff-gggg\") === \"EeEe-FfFf-GgGg\"\n",
    "uglify_word(\"EeEe-FfFf-GgGg\") === \"EeEe-FfFf-GgGg\"\n",
    "uglify_word(\"qwe123asdf456zxc\") === \"QwE123AsDf456ZxC\"\n",
    "uglify_word(\"Hello World\") === \"HeLlO WoRlD\"\n",
    "\n",
    "\n",
    "\n",
    "\"\"\"\n",
    "\n",
    "\n",
    "def uglify_word(s):\n",
    "    flag=1\n",
    "    new=''\n",
    "    for char in s:\n",
    "        if char.isalpha() and flag==1:\n",
    "            new+=char.upper()\n",
    "            flag=0\n",
    "        elif char.isalpha() and flag==0:\n",
    "            new+=char.lower()\n",
    "            flag=1\n",
    "        else:\n",
    "            new+=char\n",
    "            flag=1\n",
    "    return new\n",
    "    \n"
   ]
  }
 ],
 "metadata": {
  "kernelspec": {
   "display_name": "Python 3",
   "language": "python",
   "name": "python3"
  },
  "language_info": {
   "codemirror_mode": {
    "name": "ipython",
    "version": 3
   },
   "file_extension": ".py",
   "mimetype": "text/x-python",
   "name": "python",
   "nbconvert_exporter": "python",
   "pygments_lexer": "ipython3",
   "version": "3.7.7"
  }
 },
 "nbformat": 4,
 "nbformat_minor": 4
}
