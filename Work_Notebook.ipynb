{
 "cells": [
  {
   "cell_type": "code",
   "execution_count": null,
   "metadata": {},
   "outputs": [],
   "source": [
    "\"\"\"\n",
    "\n",
    "Too long, didn't read\n",
    "You get a list of integers, and you have to write a function mirror that returns the \"mirror\" (or symmetric) version of this \n",
    "list: i.e. the middle element is the greatest, then the next greatest on both sides, the the next greatest, and so on...\n",
    "\n",
    "More info\n",
    "The list will always consist of integers in range -1000..1000 and will vary in size between 0 and 10000. Your function should \n",
    "not mutate the input array, and this will be tested (where applicable). Notice that the returned list will always be of odd \n",
    "size, since there will always be a definitive middle element.\n",
    "\n",
    "Examples\n",
    "[]  -->  []\n",
    "[1]  -->  [1]\n",
    "[2, 1]  -->  [1, 2, 1]\n",
    "[1, 3, 2]  -->  [1, 2, 3, 2, 1]\n",
    "[-8, 42, 18, 0, -16]  -->  [-16, -8, 0, 18, 42, 18, 0, -8, -16]\n",
    "\n",
    "\n",
    "\"\"\"\n",
    "\n",
    "\n",
    "def mirror(data: list) -> list:\n",
    "    if data==[]:\n",
    "        return []\n",
    "    sorted_n=sorted(data)\n",
    "    r_sorted=sorted_n[::-1][1:]\n",
    "    sorted_n.extend(r_sorted)\n",
    "    return sorted_n\n",
    "    \n"
   ]
  }
 ],
 "metadata": {
  "kernelspec": {
   "display_name": "Python 3",
   "language": "python",
   "name": "python3"
  },
  "language_info": {
   "codemirror_mode": {
    "name": "ipython",
    "version": 3
   },
   "file_extension": ".py",
   "mimetype": "text/x-python",
   "name": "python",
   "nbconvert_exporter": "python",
   "pygments_lexer": "ipython3",
   "version": "3.7.7"
  }
 },
 "nbformat": 4,
 "nbformat_minor": 4
}
