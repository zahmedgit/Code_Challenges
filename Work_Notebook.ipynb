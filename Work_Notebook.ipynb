{
 "cells": [
  {
   "cell_type": "code",
   "execution_count": null,
   "metadata": {},
   "outputs": [],
   "source": [
    "\"\"\"\n",
    "\n",
    "Your task is to remove all consecutive duplicate words from string, leaving only first words entries.\n",
    "\n",
    "Example:\n",
    "\n",
    "Input:\n",
    "\n",
    "'alpha beta beta gamma gamma gamma delta alpha beta beta gamma gamma gamma delta'\n",
    "\n",
    "Output:\n",
    "\n",
    "'alpha beta gamma delta alpha beta gamma delta'\n",
    "\n",
    "\n",
    "\n",
    "\"\"\"\n",
    "\n",
    "\n",
    "def remove_consecutive_duplicates(s):\n",
    "    if s=='':\n",
    "        return ''\n",
    "    words=s.split()\n",
    "    after=[words[0]]\n",
    "    for word in words[1:]:\n",
    "        if after[-1]!=word:\n",
    "            after.append(word)\n",
    "    return ' '.join(after)\n",
    "    \n"
   ]
  }
 ],
 "metadata": {
  "kernelspec": {
   "display_name": "Python 3",
   "language": "python",
   "name": "python3"
  },
  "language_info": {
   "codemirror_mode": {
    "name": "ipython",
    "version": 3
   },
   "file_extension": ".py",
   "mimetype": "text/x-python",
   "name": "python",
   "nbconvert_exporter": "python",
   "pygments_lexer": "ipython3",
   "version": "3.7.7"
  }
 },
 "nbformat": 4,
 "nbformat_minor": 4
}
