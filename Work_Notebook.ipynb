{
 "cells": [
  {
   "cell_type": "code",
   "execution_count": null,
   "metadata": {},
   "outputs": [],
   "source": [
    "\"\"\"\n",
    "\n",
    "Given: an array containing hashes of names\n",
    "\n",
    "Return: a string formatted as a list of names separated by commas except for the last two names, which should be separated by an ampersand.\n",
    "\n",
    "Example:\n",
    "\n",
    "namelist([ {'name': 'Bart'}, {'name': 'Lisa'}, {'name': 'Maggie'} ])\n",
    "# returns 'Bart, Lisa & Maggie'\n",
    "\n",
    "namelist([ {'name': 'Bart'}, {'name': 'Lisa'} ])\n",
    "# returns 'Bart & Lisa'\n",
    "\n",
    "namelist([ {'name': 'Bart'} ])\n",
    "# returns 'Bart'\n",
    "\n",
    "namelist([])\n",
    "# returns ''\n",
    "\n",
    "\"\"\"\n",
    "\n",
    "\n",
    "def namelist(names):\n",
    "    res = []\n",
    "    if len(names)==0:\n",
    "        return ''\n",
    "    if len(names) == 1:\n",
    "        return names[0]['name']\n",
    "    if len(names)==2:\n",
    "        return str(names[0]['name']+' & '+names[1]['name'])\n",
    "    for name in names[0:-1]:\n",
    "        res.append(name['name'])\n",
    "    comma = ', '.join(res)\n",
    "    return str(comma+' & '+names[-1]['name'])"
   ]
  }
 ],
 "metadata": {
  "kernelspec": {
   "display_name": "Python 3",
   "language": "python",
   "name": "python3"
  },
  "language_info": {
   "codemirror_mode": {
    "name": "ipython",
    "version": 3
   },
   "file_extension": ".py",
   "mimetype": "text/x-python",
   "name": "python",
   "nbconvert_exporter": "python",
   "pygments_lexer": "ipython3",
   "version": "3.7.7"
  }
 },
 "nbformat": 4,
 "nbformat_minor": 4
}
