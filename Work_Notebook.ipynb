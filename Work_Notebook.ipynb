{
 "cells": [
  {
   "cell_type": "code",
   "execution_count": null,
   "metadata": {},
   "outputs": [],
   "source": [
    "\"\"\"\n",
    "\n",
    "The distance formula can be used to find the distance between two points. What if we were trying to walk from point A to point \n",
    "B, but there were buildings in the way? We would need some other formula..but which?\n",
    "\n",
    "Manhattan Distance\n",
    "Manhattan distance is the distance between two points in a grid (like the grid-like street geography of the New York borough of \n",
    "Manhattan) calculated by only taking a vertical and/or horizontal path.\n",
    "\n",
    "Complete the function that accepts two points and returns the Manhattan Distance between the two points.\n",
    "\n",
    "The points are arrays containing the x and y coordinate in the grid. You can think of x as the row in the grid, and y as the \n",
    "column.\n",
    "\n",
    "Examples\n",
    "manhattan_distance( [1, 1], [1, 1] ) # => returns 0\n",
    "manhattan_distance( [5, 4], [3, 2] ) # => returns 4\n",
    "manhattan_distance( [1, 1], [0, 3] ) # => returns 3\n",
    "\n",
    "\"\"\"\n",
    "\n",
    "\n",
    "def manhattan_distance(pointA, pointB):\n",
    "    return abs(pointA[0]-pointB[0])+abs(pointA[1]-pointB[1])\n",
    "    \n"
   ]
  }
 ],
 "metadata": {
  "kernelspec": {
   "display_name": "Python 3",
   "language": "python",
   "name": "python3"
  },
  "language_info": {
   "codemirror_mode": {
    "name": "ipython",
    "version": 3
   },
   "file_extension": ".py",
   "mimetype": "text/x-python",
   "name": "python",
   "nbconvert_exporter": "python",
   "pygments_lexer": "ipython3",
   "version": "3.7.7"
  }
 },
 "nbformat": 4,
 "nbformat_minor": 4
}
