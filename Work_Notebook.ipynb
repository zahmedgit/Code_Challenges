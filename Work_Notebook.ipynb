{
 "cells": [
  {
   "cell_type": "code",
   "execution_count": null,
   "metadata": {},
   "outputs": [],
   "source": [
    "\"\"\"\n",
    "\n",
    "Bob is bored during his physics lessons so he's built himself a toy box to help pass the time. The box is special because it has\n",
    "the ability to change gravity.\n",
    "\n",
    "There are some columns of toy cubes in the box arranged in a line. The i-th column contains a_i cubes. At first, the gravity in \n",
    "the box is pulling the cubes downwards. When Bob switches the gravity, it begins to pull all the cubes to a certain side of the \n",
    "box, d, which can be either 'L' or 'R' (left or right). Below is an example of what a box of cubes might look like before and \n",
    "after switching gravity.\n",
    "\n",
    "+---+                                       +---+\n",
    "|   |                                       |   |\n",
    "+---+                                       +---+\n",
    "+---++---+     +---+              +---++---++---+\n",
    "|   ||   |     |   |   -->        |   ||   ||   |\n",
    "+---++---+     +---+              +---++---++---+\n",
    "+---++---++---++---+         +---++---++---++---+\n",
    "|   ||   ||   ||   |         |   ||   ||   ||   |\n",
    "+---++---++---++---+         +---++---++---++---+\n",
    "Given the initial configuration of the cubes in the box, find out how many cubes are in each of the n columns after Bob switches\n",
    "the gravity.\n",
    "\n",
    "Examples:\n",
    "\n",
    "flip('R', [3, 2, 1, 2])     =>  [1, 2, 2, 3]\n",
    "flip('L', [1, 4, 5, 3, 5])  =>  [5, 5, 4, 3, 1]\n",
    "\n",
    "\n",
    "\"\"\"\n",
    "\n",
    "\n",
    "def flip(d, a):\n",
    "    if a==[]:\n",
    "        return []\n",
    "    if d=='R':\n",
    "        return sorted(a)\n",
    "    else:\n",
    "        return sorted(a, reverse=True)\n",
    "    \n"
   ]
  }
 ],
 "metadata": {
  "kernelspec": {
   "display_name": "Python 3",
   "language": "python",
   "name": "python3"
  },
  "language_info": {
   "codemirror_mode": {
    "name": "ipython",
    "version": 3
   },
   "file_extension": ".py",
   "mimetype": "text/x-python",
   "name": "python",
   "nbconvert_exporter": "python",
   "pygments_lexer": "ipython3",
   "version": "3.7.7"
  }
 },
 "nbformat": 4,
 "nbformat_minor": 4
}
