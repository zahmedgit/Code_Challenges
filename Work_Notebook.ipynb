{
 "cells": [
  {
   "cell_type": "code",
   "execution_count": null,
   "metadata": {},
   "outputs": [],
   "source": [
    "\"\"\"\n",
    "\n",
    "our task is to create a function called sum_arrays() in Python or addArrays in Javascript, which takes two arrays consisting of \n",
    "integers, and returns the sum of those two arrays.\n",
    "\n",
    "The twist is that (for example) [3,2,9] does not equal 3 + 2 + 9, it would equal '3' + '2' + '9' converted to an integer for \n",
    "this kata, meaning it would equal 329. The output should be an array of the the sum in a similar fashion to the input (for \n",
    "example, if the sum is 341, you would return [3,4,1]). Examples are given below of what two arrays should return.\n",
    "\n",
    "[3,2,9],[1,2] --> [3,4,1]\n",
    "[4,7,3],[1,2,3] --> [5,9,6]\n",
    "[1],[5,7,6] --> [5,7,7]\n",
    "If both arrays are empty, return an empty array.\n",
    "\n",
    "In some cases, there will be an array containing a negative number as the first index in the array. In this case treat the \n",
    "whole number as a negative number. See below:\n",
    "\n",
    "[3,2,6,6],[-7,2,2,8] --> [-3,9,6,2] # 3266 + (-7228) = -3962\n",
    "\n",
    "\n",
    "\"\"\"\n",
    "\n",
    "\n",
    "def sum_arrays(array1,array2):\n",
    "    if array1==[]:\n",
    "        return array2\n",
    "    if array1==[0] and array2==[0]:\n",
    "        return []\n",
    "    if array2==[]:\n",
    "        return array1\n",
    "    int1=int(''.join([str(x) for x in array1]))\n",
    "    int2=int(''.join([str(x) for x in array2]))\n",
    "    if str(int1+int2)[0]=='-':\n",
    "        result= [int(str(int1+int2)[0]+str(int1+int2)[1])]\n",
    "        result.extend([int(x) for x in str(int1+int2)[2:]])\n",
    "        return result\n",
    "    return [int(x) for x in str(int1+int2)]\n",
    "    \n"
   ]
  }
 ],
 "metadata": {
  "kernelspec": {
   "display_name": "Python 3",
   "language": "python",
   "name": "python3"
  },
  "language_info": {
   "codemirror_mode": {
    "name": "ipython",
    "version": 3
   },
   "file_extension": ".py",
   "mimetype": "text/x-python",
   "name": "python",
   "nbconvert_exporter": "python",
   "pygments_lexer": "ipython3",
   "version": "3.7.7"
  }
 },
 "nbformat": 4,
 "nbformat_minor": 4
}
