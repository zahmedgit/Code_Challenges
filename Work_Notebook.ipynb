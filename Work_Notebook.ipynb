{
 "cells": [
  {
   "cell_type": "code",
   "execution_count": null,
   "metadata": {},
   "outputs": [],
   "source": [
    "\"\"\"\n",
    "\n",
    "Given an n x n array, return the array elements arranged from outermost elements to the middle element, traveling clockwise.\n",
    "\n",
    "array = [[1,2,3],\n",
    "         [4,5,6],\n",
    "         [7,8,9]]\n",
    "snail(array) #=> [1,2,3,6,9,8,7,4,5]\n",
    "For better understanding, please follow the numbers of the next array consecutively:\n",
    "\n",
    "array = [[1,2,3],\n",
    "         [8,9,4],\n",
    "         [7,6,5]]\n",
    "snail(array) #=> [1,2,3,4,5,6,7,8,9]\n",
    "\n",
    "\"\"\"\n",
    "\n",
    "\n",
    "def snail(snail_map):\n",
    "    arr=[]\n",
    "    while len(snail_map)>0:\n",
    "        arr.extend(snail_map[0])\n",
    "        del snail_map[0]\n",
    "        if len(snail_map)>0:\n",
    "            for x in snail_map:\n",
    "                arr.append(x[-1])\n",
    "                del x[-1]\n",
    "            if len(snail_map)>1:\n",
    "                arr.extend(snail_map[-1][::-1])\n",
    "                del snail_map[-1]\n",
    "            for x in snail_map[::-1]:\n",
    "                arr.append(x[0])\n",
    "                del x[0]            \n",
    "    return arr\n",
    "    \n"
   ]
  }
 ],
 "metadata": {
  "kernelspec": {
   "display_name": "Python 3",
   "language": "python",
   "name": "python3"
  },
  "language_info": {
   "codemirror_mode": {
    "name": "ipython",
    "version": 3
   },
   "file_extension": ".py",
   "mimetype": "text/x-python",
   "name": "python",
   "nbconvert_exporter": "python",
   "pygments_lexer": "ipython3",
   "version": "3.7.7"
  }
 },
 "nbformat": 4,
 "nbformat_minor": 4
}
