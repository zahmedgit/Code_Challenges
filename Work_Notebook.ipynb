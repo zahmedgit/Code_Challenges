{
 "cells": [
  {
   "cell_type": "code",
   "execution_count": null,
   "metadata": {},
   "outputs": [],
   "source": [
    "\"\"\"\n",
    "\n",
    "Create a function (or write a script in Shell) that takes an integer as an argument and returns \"Even\" for even numbers or \n",
    "\"Odd\" for odd numbers.\n",
    "\n",
    "\"\"\"\n",
    "\n",
    "\n",
    "def even_or_odd(number):\n",
    "    if number%2 ==0:\n",
    "        return 'Even'\n",
    "    return 'Odd'"
   ]
  }
 ],
 "metadata": {
  "kernelspec": {
   "display_name": "Python 3",
   "language": "python",
   "name": "python3"
  },
  "language_info": {
   "codemirror_mode": {
    "name": "ipython",
    "version": 3
   },
   "file_extension": ".py",
   "mimetype": "text/x-python",
   "name": "python",
   "nbconvert_exporter": "python",
   "pygments_lexer": "ipython3",
   "version": "3.7.7"
  }
 },
 "nbformat": 4,
 "nbformat_minor": 4
}
