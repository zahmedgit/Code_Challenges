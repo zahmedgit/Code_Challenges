{
 "cells": [
  {
   "cell_type": "code",
   "execution_count": null,
   "metadata": {},
   "outputs": [],
   "source": [
    "\"\"\"\n",
    "\n",
    "In this kata you will be given a list consisting of unique elements except for one thing that appears twice.\n",
    "\n",
    "Your task is to output a list of everything inbetween both occurrences of this element in the list.\n",
    "\n",
    "Examples:\n",
    "[0, 1, 2, 3, 4, 5, 6, 1, 7, 8] => [2, 3, 4, 5, 6]\n",
    "['None', 'Hello', 'Example', 'hello', 'None', 'Extra'] => ['Hello', 'Example', 'hello']\n",
    "[0, 0] => []\n",
    "[True, False, True] => [False]\n",
    "['e', 'x', 'a', 'm', 'p', 'l', 'e'] => ['x', 'a', 'm', 'p', 'l']\n",
    "Notes\n",
    "All elements will be the same datatype.\n",
    "All used elements will be hashable.\n",
    "\n",
    "\n",
    "\n",
    "\"\"\"\n",
    "\n",
    "\n",
    "def duplicate_sandwich(arr):\n",
    "    counts={}\n",
    "    end=0\n",
    "    for i,j in enumerate(arr):\n",
    "        if j not in counts:\n",
    "            counts[j]=1\n",
    "        else:\n",
    "            counts[j]+=1\n",
    "            end=i\n",
    "            break\n",
    "    start=0\n",
    "    while start<end:\n",
    "        if arr[start]==arr[end]:\n",
    "            break\n",
    "        start+=1\n",
    "    if end-start==1:\n",
    "        return []\n",
    "    return [arr[x] for x in range(start+1,end)]\n",
    "    \n"
   ]
  }
 ],
 "metadata": {
  "kernelspec": {
   "display_name": "Python 3",
   "language": "python",
   "name": "python3"
  },
  "language_info": {
   "codemirror_mode": {
    "name": "ipython",
    "version": 3
   },
   "file_extension": ".py",
   "mimetype": "text/x-python",
   "name": "python",
   "nbconvert_exporter": "python",
   "pygments_lexer": "ipython3",
   "version": "3.7.7"
  }
 },
 "nbformat": 4,
 "nbformat_minor": 4
}
