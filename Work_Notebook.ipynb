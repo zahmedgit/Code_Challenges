{
 "cells": [
  {
   "cell_type": "code",
   "execution_count": null,
   "metadata": {},
   "outputs": [],
   "source": [
    "\"\"\"\n",
    "\n",
    "Return the century of the input year. The input will always be a 4 digit string, so there is no need for validation.\n",
    "\n",
    "Examples\n",
    "\"1999\" --> \"20th\"\n",
    "\"2011\" --> \"21st\"\n",
    "\"2154\" --> \"22nd\"\n",
    "\"2259\" --> \"23rd\"\n",
    "\"1124\" --> \"12th\"\n",
    "\"2000\" --> \"20th\"\n",
    "\n",
    "\n",
    "\"\"\"\n",
    "\n",
    "\n",
    "import math\n",
    "def what_century(year):\n",
    "    num=math.ceil(int(year)/100)\n",
    "    if num >3 and num < 20:\n",
    "        return str(num)+'th'\n",
    "    elif num%10==1:\n",
    "        return str(num)+'st'\n",
    "    elif num%10==2:\n",
    "        return str(num)+'nd'\n",
    "    elif num%10==3:\n",
    "        return str(num)+'rd'\n",
    "    else:\n",
    "        return str(num)+'th'\n",
    "    \n"
   ]
  }
 ],
 "metadata": {
  "kernelspec": {
   "display_name": "Python 3",
   "language": "python",
   "name": "python3"
  },
  "language_info": {
   "codemirror_mode": {
    "name": "ipython",
    "version": 3
   },
   "file_extension": ".py",
   "mimetype": "text/x-python",
   "name": "python",
   "nbconvert_exporter": "python",
   "pygments_lexer": "ipython3",
   "version": "3.7.7"
  }
 },
 "nbformat": 4,
 "nbformat_minor": 4
}
