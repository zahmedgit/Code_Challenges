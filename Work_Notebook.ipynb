{
 "cells": [
  {
   "cell_type": "code",
   "execution_count": null,
   "metadata": {},
   "outputs": [],
   "source": [
    "\"\"\"\n",
    "\n",
    "ATM machines allow 4 or 6 digit PIN codes and PIN codes cannot contain anything but exactly 4 digits or exactly 6 digits.\n",
    "\n",
    "If the function is passed a valid PIN string, return true, else return false.\n",
    "\n",
    "Examples\n",
    "\"1234\"   -->  true\n",
    "\"12345\"  -->  false\n",
    "\"a234\"   -->  false\n",
    "\n",
    "\n",
    "\"\"\"\n",
    "\n",
    "\n",
    "import re\n",
    "def validate_pin(pin):\n",
    "    if len(pin)!=4 and len(pin)!=6:\n",
    "        return False\n",
    "    if re.search(r'^\\d{4}$',pin) or re.search(r'^\\d{6}$',pin):\n",
    "        return True\n",
    "    return False\n",
    "    \n"
   ]
  }
 ],
 "metadata": {
  "kernelspec": {
   "display_name": "Python 3",
   "language": "python",
   "name": "python3"
  },
  "language_info": {
   "codemirror_mode": {
    "name": "ipython",
    "version": 3
   },
   "file_extension": ".py",
   "mimetype": "text/x-python",
   "name": "python",
   "nbconvert_exporter": "python",
   "pygments_lexer": "ipython3",
   "version": "3.7.7"
  }
 },
 "nbformat": 4,
 "nbformat_minor": 4
}
