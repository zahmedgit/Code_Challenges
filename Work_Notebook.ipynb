{
 "cells": [
  {
   "cell_type": "code",
   "execution_count": null,
   "metadata": {},
   "outputs": [],
   "source": [
    "\"\"\"\n",
    "\n",
    "A sequence or a series, in mathematics, is a string of objects, like numbers, that follow a particular pattern. The individual \n",
    "elements in a sequence are called terms.\n",
    "\n",
    "For example, some simple patterns include: 3, 6, 9, 12, 15, 18, 21, ...\n",
    "Pattern: \"add 3 to the previous number to get the next number\"\n",
    "\n",
    "0, 12, 24, 36, 48, 60, 72, ...\n",
    "Pattern: \"add 12 to the previous number to get the next number\"\n",
    "\n",
    "How about generating a more complicated pattern?\n",
    "0, 1, 3, 6, 10, 15, 21, 28, ...\n",
    "0(0)_,1(0+1),3(0+1+2),6(0+1+2+3)_...\n",
    "Pattern: \"thenth term is the sum of numbers(from 0 ton, inclusive)\"\n",
    "\n",
    "sum_of_n (or SequenceSum.sumOfN in Java, SequenceSum.SumOfN in C#) takes an integer n and returns a List (an Array in Java/C#) \n",
    "of length abs(n) + 1. The List/Array contains the numbers in the arithmetic series produced by taking the sum of the consecutive integer numbers from 0 to n inclusive.\n",
    "\n",
    "n can also be 0 or a negative value.\n",
    "Wikipedia reference for abs value is available here.\n",
    "\n",
    "Example:\n",
    "5 -> [0, 1, 3, 6, 10, 15]\n",
    "\n",
    "-5 -> [0, -1, -3, -6, -10, -15]\n",
    "\n",
    "7 -> [0, 1, 3, 6, 10, 15, 21, 28]\n",
    "\n",
    "\"\"\"\n",
    "\n",
    "\n",
    "def sum_of_n(n):\n",
    "    total=0\n",
    "    nums=[]\n",
    "    for x in range(0,abs(n)+1):\n",
    "        if n>=0:\n",
    "            total+=x\n",
    "        else:\n",
    "            total-=x\n",
    "        nums.append(total)\n",
    "    return nums\n",
    "    \n"
   ]
  }
 ],
 "metadata": {
  "kernelspec": {
   "display_name": "Python 3",
   "language": "python",
   "name": "python3"
  },
  "language_info": {
   "codemirror_mode": {
    "name": "ipython",
    "version": 3
   },
   "file_extension": ".py",
   "mimetype": "text/x-python",
   "name": "python",
   "nbconvert_exporter": "python",
   "pygments_lexer": "ipython3",
   "version": "3.7.7"
  }
 },
 "nbformat": 4,
 "nbformat_minor": 4
}
