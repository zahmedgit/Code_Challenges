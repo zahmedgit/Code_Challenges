{
 "cells": [
  {
   "cell_type": "code",
   "execution_count": null,
   "metadata": {},
   "outputs": [],
   "source": [
    "\"\"\"\n",
    "\n",
    "When it's spring Japanese cherries blossom, it's called \"sakura\" and it's admired a lot. The petals start to fall in late April.\n",
    "\n",
    "Suppose that the falling speed of a petal is 5 centimeters per second (5 cm/s), and it takes 80 seconds for the petal to reach \n",
    "the ground from a certain branch.\n",
    "\n",
    "Write a function that receives the speed (in cm/s) of a petal as input, and returns the time it takes for that petal to reach \n",
    "the ground from the same branch.\n",
    "\n",
    "Notes:\n",
    "\n",
    "The movement of the petal is quite complicated, so in this case we can see the velocity as a constant during its falling.\n",
    "Pay attention to the data types.\n",
    "If the initial velocity is non-positive, the return value should be 0\n",
    "\n",
    "\"\"\"\n",
    "\n",
    "\n",
    "def sakura_fall(v):\n",
    "    if v<=0:\n",
    "        return 0\n",
    "    return 400/v\n",
    "    \n"
   ]
  }
 ],
 "metadata": {
  "kernelspec": {
   "display_name": "Python 3",
   "language": "python",
   "name": "python3"
  },
  "language_info": {
   "codemirror_mode": {
    "name": "ipython",
    "version": 3
   },
   "file_extension": ".py",
   "mimetype": "text/x-python",
   "name": "python",
   "nbconvert_exporter": "python",
   "pygments_lexer": "ipython3",
   "version": "3.7.7"
  }
 },
 "nbformat": 4,
 "nbformat_minor": 4
}
