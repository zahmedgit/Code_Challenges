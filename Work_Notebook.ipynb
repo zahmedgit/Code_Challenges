{
 "cells": [
  {
   "cell_type": "code",
   "execution_count": null,
   "metadata": {},
   "outputs": [],
   "source": [
    "\"\"\"\n",
    "\n",
    "You have a string of numbers; starting with the third number each number is the result of an operation performed using the \n",
    "previous two numbers.\n",
    "\n",
    "Complete the function which returns a string of the operations in order and separated by a comma and a space, e.g. \n",
    "\"subtraction, subtraction, addition\"\n",
    "\n",
    "The available operations are (in this order of preference):\n",
    "\n",
    "1) addition\n",
    "2) subtraction\n",
    "3) multiplication\n",
    "4) division\n",
    "Notes:\n",
    "\n",
    "All input data is valid\n",
    "The number of numbers in the input string >= 3\n",
    "For a case like \"2 2 4\" - when multiple variants are possible - choose the first possible operation from the list (in this case \n",
    "\"addition\")\n",
    "Integer division should be used\n",
    "Example\n",
    "\"9 4 5 20 25\"  -->  \"subtraction, multiplication, addition\"\n",
    "Because:\n",
    "\n",
    "9 - 4 = 5   --> subtraction\n",
    "4 * 5 = 20  --> multiplication\n",
    "5 + 20 = 25 --> addition\n",
    "\n",
    "\"\"\"\n",
    "\n",
    "\n",
    "def say_me_operations(string_numbers):\n",
    "    join=string_numbers.split(' ')\n",
    "    nums = [int(x) for x in join]\n",
    "    ops=[]\n",
    "    for n in range(2,len(nums)):\n",
    "        if (nums[n-2] + nums[n-1]) == nums[n]:\n",
    "            ops.append('addition')\n",
    "        elif (nums[n-2] - nums[n-1]) == nums[n]:\n",
    "            ops.append('subtraction')\n",
    "        elif (nums[n-2] * nums[n-1]) == nums[n]:\n",
    "            ops.append('multiplication')\n",
    "        elif int(nums[n-2] // nums[n-1]) == nums[n]:\n",
    "            ops.append('division')\n",
    "    return ', '.join(ops)\n",
    "    \n"
   ]
  }
 ],
 "metadata": {
  "kernelspec": {
   "display_name": "Python 3",
   "language": "python",
   "name": "python3"
  },
  "language_info": {
   "codemirror_mode": {
    "name": "ipython",
    "version": 3
   },
   "file_extension": ".py",
   "mimetype": "text/x-python",
   "name": "python",
   "nbconvert_exporter": "python",
   "pygments_lexer": "ipython3",
   "version": "3.7.7"
  }
 },
 "nbformat": 4,
 "nbformat_minor": 4
}
