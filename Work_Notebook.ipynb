{
 "cells": [
  {
   "cell_type": "code",
   "execution_count": null,
   "metadata": {},
   "outputs": [],
   "source": [
    "\"\"\"\n",
    "\n",
    "Some people have been killed!\n",
    "You have managed to narrow the suspects down to just a few. Luckily, you know every person who those suspects have seen on the \n",
    "day of the murders.\n",
    "\n",
    "Task.\n",
    "Given a dictionary with all the names of the suspects and everyone that they have seen on that day which may look like this:\n",
    "\n",
    "{'James': ['Jacob', 'Bill', 'Lucas'],\n",
    " 'Johnny': ['David', 'Kyle', 'Lucas'],\n",
    " 'Peter': ['Lucy', 'Kyle']}\n",
    "and also a list of the names of the dead people:\n",
    "\n",
    "['Lucas', 'Bill']\n",
    "return the name of the one killer, in our case 'James' because he is the only person that saw both 'Lucas' and 'Bill'\n",
    "\n",
    "\n",
    "\n",
    "\"\"\"\n",
    "\n",
    "\n",
    "def killer(suspect_info, dead):\n",
    "    for suspect in suspect_info:\n",
    "        count=0\n",
    "        for p in dead:\n",
    "            if p in suspect_info[suspect]:\n",
    "                count+=1\n",
    "        if count==len(dead):\n",
    "            return suspect\n",
    "    return ''\n",
    "    \n"
   ]
  }
 ],
 "metadata": {
  "kernelspec": {
   "display_name": "Python 3",
   "language": "python",
   "name": "python3"
  },
  "language_info": {
   "codemirror_mode": {
    "name": "ipython",
    "version": 3
   },
   "file_extension": ".py",
   "mimetype": "text/x-python",
   "name": "python",
   "nbconvert_exporter": "python",
   "pygments_lexer": "ipython3",
   "version": "3.7.7"
  }
 },
 "nbformat": 4,
 "nbformat_minor": 4
}
