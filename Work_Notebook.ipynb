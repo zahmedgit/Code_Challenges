{
 "cells": [
  {
   "cell_type": "code",
   "execution_count": null,
   "metadata": {},
   "outputs": [],
   "source": [
    "\"\"\"\n",
    "\n",
    "Nathan loves cycling.\n",
    "\n",
    "Because Nathan knows it is important to stay hydrated, he drinks 0.5 litres of water per hour of cycling.\n",
    "\n",
    "You get given the time in hours and you need to return the number of litres Nathan will drink, rounded to the smallest value.\n",
    "\n",
    "For example:\n",
    "\n",
    "time = 3 ----> litres = 1\n",
    "\n",
    "time = 6.7---> litres = 3\n",
    "\n",
    "time = 11.8--> litres = 5\n",
    "\n",
    "\n",
    "\"\"\"\n",
    "\n",
    "\n",
    "def litres(time):\n",
    "    return time//2\n",
    "    \n"
   ]
  }
 ],
 "metadata": {
  "kernelspec": {
   "display_name": "Python 3",
   "language": "python",
   "name": "python3"
  },
  "language_info": {
   "codemirror_mode": {
    "name": "ipython",
    "version": 3
   },
   "file_extension": ".py",
   "mimetype": "text/x-python",
   "name": "python",
   "nbconvert_exporter": "python",
   "pygments_lexer": "ipython3",
   "version": "3.7.7"
  }
 },
 "nbformat": 4,
 "nbformat_minor": 4
}
