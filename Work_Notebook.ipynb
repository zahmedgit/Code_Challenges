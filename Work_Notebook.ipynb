{
 "cells": [
  {
   "cell_type": "code",
   "execution_count": null,
   "metadata": {},
   "outputs": [],
   "source": [
    "\"\"\"\n",
    "\n",
    "Born a misinterpretation of this kata, your task here is pretty simple: given an array of values and an amount of beggars, you \n",
    "are supposed to return an array with the sum of what each beggar brings home, assuming they all take regular turns, from the \n",
    "first to the last.\n",
    "\n",
    "For example: [1,2,3,4,5] for 2 beggars will return a result of [9,6], as the first one takes [1,3,5], the second collects [2,4].\n",
    "\n",
    "The same array with 3 beggars would have in turn have produced a better out come for the second beggar: [5,7,3], as they will \n",
    "respectively take [1,4], [2,5] and [3].\n",
    "\n",
    "Also note that not all beggars have to take the same amount of \"offers\", meaning that the length of the array is not necessarily\n",
    "a multiple of n; length can be even shorter, in which case the last beggars will of course take nothing (0).\n",
    "\n",
    "\"\"\"\n",
    "\n",
    "\n",
    "def beggars(values, n):\n",
    "    if n==0:\n",
    "        return []\n",
    "    results=[0 for x in range(n)]\n",
    "    for ind,val in enumerate(values):\n",
    "        results[ind%n]+=val\n",
    "    return results\n",
    "    \n"
   ]
  }
 ],
 "metadata": {
  "kernelspec": {
   "display_name": "Python 3",
   "language": "python",
   "name": "python3"
  },
  "language_info": {
   "codemirror_mode": {
    "name": "ipython",
    "version": 3
   },
   "file_extension": ".py",
   "mimetype": "text/x-python",
   "name": "python",
   "nbconvert_exporter": "python",
   "pygments_lexer": "ipython3",
   "version": "3.7.7"
  }
 },
 "nbformat": 4,
 "nbformat_minor": 4
}
