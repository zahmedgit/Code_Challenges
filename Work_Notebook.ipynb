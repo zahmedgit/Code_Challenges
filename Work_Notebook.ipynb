{
 "cells": [
  {
   "cell_type": "code",
   "execution_count": null,
   "metadata": {},
   "outputs": [],
   "source": [
    "\"\"\"\n",
    "\n",
    "Create a function that takes any sentence and redistributes the spaces (and adds additional spaces if needed) so that each word \n",
    "starts with a vowel. The letters should all be in the same order but every vowel in the sentence should be the start of a new \n",
    "word. The first word in the new sentence may start without a vowel. It should return a string in all lowercase with no \n",
    "punctuation (only alphanumeric characters).\n",
    "\n",
    "EXAMPLES 'It is beautiful weather today!' becomes 'it isb e a ut if ulw e ath ert od ay' 'Coding is great' becomes \n",
    "'c od ing isgr e at' 'my number is 0208-533-2325' becomes 'myn umb er is02085332325'\n",
    "\n",
    "\"\"\"\n",
    "\n",
    "\n",
    "import re\n",
    "def vowel_start(st): \n",
    "    if st=='':\n",
    "        return ''\n",
    "    total=re.sub('[^A-Za-z0-9]+','',st.lower())\n",
    "    total=total.replace(' ','')\n",
    "    new=str(total[0])\n",
    "    for i in range(1,len(total)):\n",
    "        if total[i] in ['a','e','i','o','u']:\n",
    "            new = new + ' ' + total[i]\n",
    "        else:\n",
    "            new = new + total[i]\n",
    "    return new\n",
    "    \n"
   ]
  }
 ],
 "metadata": {
  "kernelspec": {
   "display_name": "Python 3",
   "language": "python",
   "name": "python3"
  },
  "language_info": {
   "codemirror_mode": {
    "name": "ipython",
    "version": 3
   },
   "file_extension": ".py",
   "mimetype": "text/x-python",
   "name": "python",
   "nbconvert_exporter": "python",
   "pygments_lexer": "ipython3",
   "version": "3.7.7"
  }
 },
 "nbformat": 4,
 "nbformat_minor": 4
}
