{
 "cells": [
  {
   "cell_type": "code",
   "execution_count": null,
   "metadata": {},
   "outputs": [],
   "source": [
    "\"\"\"\n",
    "\n",
    "There are some stones on Bob's table in a row, and each of them can be red, green or blue, indicated by the characters R, G, \n",
    "and B. Help Bob find the minimum number of stones Bob needs to remove from the table so that each pair of adjacent stones is \n",
    "unique.\n",
    "\n",
    "Examples:\n",
    "\n",
    "\"RGBRGBRGGB\"   => 1\n",
    "\"RGGRGBBRGRR\"  => 3\n",
    "\"RRRRGGGGBBBB\" => 9\n",
    "\n",
    "\"\"\"\n",
    "\n",
    "\n",
    "def solution(stones):\n",
    "    count=0\n",
    "    check=stones[0]\n",
    "    for x in range(1,len(stones)):\n",
    "        if stones[x]==check:\n",
    "            count+=1\n",
    "        else:\n",
    "            check=stones[x]\n",
    "    return count\n",
    "    \n"
   ]
  }
 ],
 "metadata": {
  "kernelspec": {
   "display_name": "Python 3",
   "language": "python",
   "name": "python3"
  },
  "language_info": {
   "codemirror_mode": {
    "name": "ipython",
    "version": 3
   },
   "file_extension": ".py",
   "mimetype": "text/x-python",
   "name": "python",
   "nbconvert_exporter": "python",
   "pygments_lexer": "ipython3",
   "version": "3.7.7"
  }
 },
 "nbformat": 4,
 "nbformat_minor": 4
}
