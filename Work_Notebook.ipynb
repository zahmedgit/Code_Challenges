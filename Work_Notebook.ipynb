{
 "cells": [
  {
   "cell_type": "code",
   "execution_count": null,
   "metadata": {},
   "outputs": [],
   "source": [
    "\"\"\"\n",
    "\n",
    "You are given an n by n ( square ) grid of characters, for example:\n",
    "\n",
    "[['m', 'y', 'e'], \n",
    " ['x', 'a', 'm'], \n",
    " ['p', 'l', 'e']]\n",
    "You are also given a list of integers as input, for example:\n",
    "\n",
    "[1, 3, 5, 8]\n",
    "You have to find the characters in these indexes of the grid if you think of the indexes as:\n",
    "\n",
    "[[1, 2, 3], \n",
    " [4, 5, 6], \n",
    " [7, 8, 9]]\n",
    "Remember that the indexes start from one and not zero.\n",
    "\n",
    "Then you output a string like this:\n",
    "\n",
    "\"meal\"\n",
    "All inputs will be valid.\n",
    "\n",
    "\n",
    "\n",
    "\"\"\"\n",
    "\n",
    "\n",
    "def grid_index(grid, indexes):\n",
    "    full=[]\n",
    "    for row in grid:\n",
    "        full.extend(row)\n",
    "    return ''.join([full[i-1] for i in indexes])\n",
    "    \n"
   ]
  }
 ],
 "metadata": {
  "kernelspec": {
   "display_name": "Python 3",
   "language": "python",
   "name": "python3"
  },
  "language_info": {
   "codemirror_mode": {
    "name": "ipython",
    "version": 3
   },
   "file_extension": ".py",
   "mimetype": "text/x-python",
   "name": "python",
   "nbconvert_exporter": "python",
   "pygments_lexer": "ipython3",
   "version": "3.7.7"
  }
 },
 "nbformat": 4,
 "nbformat_minor": 4
}
